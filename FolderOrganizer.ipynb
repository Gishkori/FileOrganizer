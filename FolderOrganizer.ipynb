{
 "cells": [
  {
   "cell_type": "code",
   "execution_count": 6,
   "id": "7f44e767",
   "metadata": {},
   "outputs": [],
   "source": [
    "# import OS module\n",
    "import os\n",
    "import shutil \n",
    " \n",
    "# Get the list of all files and directories\n",
    "path = \"/Users/gishkori/Downloads\"\n",
    "os.chdir(path)\n",
    "\n",
    "dir_list = os.listdir(path)\n",
    " \n",
    "# For Files which have extension types in them \n",
    "for file in dir_list:\n",
    "    if os.path.isfile(file):   \n",
    "        file_extension = os.path.splitext(file)[1][1:]\n",
    "        if(len(file_extension)>2):\n",
    "            if not os.path.exists(file_extension):\n",
    "                os.makedirs(file_extension)\n",
    "            shutil.move(file, os.path.join(file_extension, file))\n",
    "        \n",
    "\n",
    "# For Remaining Files which are don't have any extension type\n",
    "otherFolder = \"Others\"\n",
    "for file in dir_list:\n",
    "    if os.path.isfile(file):   \n",
    "        if not os.path.exists(otherFolder):\n",
    "            os.makedirs(otherFolder)\n",
    "        shutil.move(file, os.path.join(otherFolder, file))\n",
    "\n",
    "\n",
    "    "
   ]
  },
  {
   "cell_type": "code",
   "execution_count": null,
   "id": "74416f09",
   "metadata": {},
   "outputs": [],
   "source": []
  },
  {
   "cell_type": "code",
   "execution_count": null,
   "id": "b201f86c",
   "metadata": {},
   "outputs": [],
   "source": []
  }
 ],
 "metadata": {
  "kernelspec": {
   "display_name": "Python 3 (ipykernel)",
   "language": "python",
   "name": "python3"
  },
  "language_info": {
   "codemirror_mode": {
    "name": "ipython",
    "version": 3
   },
   "file_extension": ".py",
   "mimetype": "text/x-python",
   "name": "python",
   "nbconvert_exporter": "python",
   "pygments_lexer": "ipython3",
   "version": "3.11.5"
  }
 },
 "nbformat": 4,
 "nbformat_minor": 5
}
