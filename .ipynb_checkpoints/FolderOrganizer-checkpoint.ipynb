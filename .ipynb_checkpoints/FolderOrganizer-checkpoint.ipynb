{
 "cells": [
  {
   "cell_type": "code",
   "execution_count": 9,
   "id": "7f44e767",
   "metadata": {},
   "outputs": [
    {
     "name": "stdout",
     "output_type": "stream",
     "text": [
      "Extension Types in ' /Users/gishkori/Downloads ' :\n"
     ]
    }
   ],
   "source": [
    "# import OS module\n",
    "import os\n",
    "import shutil \n",
    " \n",
    "# Get the list of all files and directories\n",
    "path = \"/Users/gishkori/Downloads\"\n",
    "os.chdir(path)\n",
    "\n",
    "dir_list = os.listdir(path)\n",
    " \n",
    "print(\"Extension Types in '\", path, \"' :\")\n",
    "\n",
    "filesExtensions = [];\n",
    "\n",
    "for file in dir_list:\n",
    "    extensionIndex = file.rfind(\".\")\n",
    "    if(extensionIndex):\n",
    "        filesExtensions.append(file[extensionIndex:])\n",
    "    \n",
    "    \n",
    "filesExtensions.sort()\n",
    "filesExtensions = list(dict.fromkeys(filesExtensions)) \n",
    "folderTypes = []\n",
    "    \n",
    "for extension in filesExtensions:\n",
    "    if(len(extension)>2):\n",
    "        extension = extension.replace(\".\", \"\").upper()\n",
    "        folderTypes.append(extension)\n",
    "        \n",
    "        \n",
    "for extType in folderTypes:\n",
    "    if not os.path.exists(extType):\n",
    "        os.makedirs(extType)\n",
    "        print(extType)\n",
    "\n",
    "    "
   ]
  },
  {
   "cell_type": "code",
   "execution_count": null,
   "id": "74416f09",
   "metadata": {},
   "outputs": [],
   "source": []
  }
 ],
 "metadata": {
  "kernelspec": {
   "display_name": "Python 3 (ipykernel)",
   "language": "python",
   "name": "python3"
  },
  "language_info": {
   "codemirror_mode": {
    "name": "ipython",
    "version": 3
   },
   "file_extension": ".py",
   "mimetype": "text/x-python",
   "name": "python",
   "nbconvert_exporter": "python",
   "pygments_lexer": "ipython3",
   "version": "3.11.5"
  }
 },
 "nbformat": 4,
 "nbformat_minor": 5
}
